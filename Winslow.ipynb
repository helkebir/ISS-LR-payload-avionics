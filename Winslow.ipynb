{
 "cells": [
  {
   "cell_type": "code",
   "execution_count": 31,
   "metadata": {},
   "outputs": [],
   "source": [
    "import numpy as np\n",
    "import pandas as pd"
   ]
  },
  {
   "cell_type": "code",
   "execution_count": 7,
   "metadata": {},
   "outputs": [
    {
     "data": {
      "text/plain": [
       "0.1909859317102744"
      ]
     },
     "execution_count": 7,
     "metadata": {},
     "output_type": "execute_result"
    }
   ],
   "source": [
    "4*.015/(np.pi*.1)"
   ]
  },
  {
   "cell_type": "code",
   "execution_count": 8,
   "metadata": {},
   "outputs": [],
   "source": [
    "class Winslow(object):\n",
    "    def __init__(self, rotorradius=.1, bladenumber=4, solidity=.2):\n",
    "        self.rotorradius = rotorradius\n",
    "        self.bladenumber = bladenumber\n",
    "        self.solidity = solidity\n",
    "        \n",
    "    def rotormass(self):\n",
    "        return 0.0195*self.rotorradius**(2.0859)*self.solidity**(-.2038)*self.bladenumber**(.5344)\n",
    "    \n",
    "    def batterymass(self, capacity, seriesnumber):\n",
    "        return .0418*capacity**(.9327)*seriesnumber**(1.0725)\n",
    "    \n",
    "    def motormassBL(self, Kv, P, I):\n",
    "        lBL = 4.8910*I**(.1751)*P**(.2476)\n",
    "        dBL = 41.45*Kv**(-.1919)*P**(.1935)\n",
    "        return .0109*Kv**(.5122)*P**(-.1902)*np.log10(lBL)**(2.5582)*np.log10(dBL)**(12.8502)\n",
    "    \n",
    "    def motormassDC(self, P, Qmax):\n",
    "        lDC = 20.83*Qmax**(.1924)\n",
    "        dDC = 11.13*Qmax**(.2895)\n",
    "        return (10**(-81))*P**(-.2979)*Qmax**(-20.5615)*np.log10(lDC)**(746)*np.log10(dDC)**(-212)\n",
    "    \n",
    "    def ESCmassBL(self, Imax):\n",
    "        return 0.8013*Imax**(.9727)\n",
    "    \n",
    "    def ESCmassDC(self, Imax):\n",
    "        return .977*Imax**(.8483)\n",
    "    \n",
    "    def airframemass(self, R, capacity, seriesnumber):\n",
    "        return 1.3119*R**(1.2767)*self.batterymass(capacity, seriesnumber)**(.4587)\n",
    "            \n",
    "    @property\n",
    "    def rotorradius(self):\n",
    "        return self._rotorradius\n",
    "    \n",
    "    @rotorradius.setter\n",
    "    def rotorradius(self, rr):\n",
    "        try:\n",
    "            rr = np.abs(float(rr))\n",
    "        except:\n",
    "            pass\n",
    "        else:\n",
    "            self._rotorradius = rr\n",
    "            \n",
    "    @property\n",
    "    def bladenumber(self):\n",
    "        return self._bladenumber\n",
    "    \n",
    "    @bladenumber.setter\n",
    "    def bladenumber(self, bn):\n",
    "        try:\n",
    "            bn = np.abs(int(bn))\n",
    "        except:\n",
    "            pass\n",
    "        else:\n",
    "            self._bladenumber = bn\n",
    "            \n",
    "    @property\n",
    "    def solidity(self):\n",
    "        return self._solidity\n",
    "    \n",
    "    @solidity.setter\n",
    "    def solidity(self, sol):\n",
    "        try:\n",
    "            sol = np.abs(float(sol))\n",
    "        except:\n",
    "            pass\n",
    "        else:\n",
    "            self._rotorradius = sol"
   ]
  },
  {
   "cell_type": "markdown",
   "metadata": {},
   "source": [
    "Power estimate:\n",
    "* Raspberry Pi: 5V/0.6-1.25A\n",
    "* Navio2: 4.75-5.25V/0.15A\n",
    "\n",
    "Mass estimate:\n",
    "* Raspberry Pi: 0.045 kg\n",
    "* Navio2: 0.023 kg"
   ]
  },
  {
   "cell_type": "code",
   "execution_count": 105,
   "metadata": {},
   "outputs": [],
   "source": [
    "# Hover time [s]\n",
    "HT = 20*60\n",
    "# Cells in series\n",
    "S = 4\n",
    "# Payload mass\n",
    "m_PL = 0.5\n",
    "# Thrust-to-weight ratio\n",
    "TWR = 2\n",
    "# Avionics-to-motor power ratio\n",
    "AMR = .1\n",
    "# Voltage\n",
    "V = 11.1\n",
    "\n",
    "\n",
    "T_prop = (m_PL*9.80665*TWR/4)/np.sqrt(2)\n",
    "W_prop = interpMotorProps_Thrust(T_prop, voltage=11.1, prop=\"APC1047\")[\"Watts\"]\n",
    "AMR = 5.1*1.15/W_prop\n",
    "\n",
    "W_PL = (1+AMR/4)*W_prop*4\n",
    "Ah = W_PL*(HT/3600)/V"
   ]
  },
  {
   "cell_type": "code",
   "execution_count": 106,
   "metadata": {},
   "outputs": [
    {
     "data": {
      "text/plain": [
       "0.3599879240437465"
      ]
     },
     "execution_count": 106,
     "metadata": {},
     "output_type": "execute_result"
    }
   ],
   "source": [
    "AMR"
   ]
  },
  {
   "cell_type": "code",
   "execution_count": 107,
   "metadata": {},
   "outputs": [
    {
     "data": {
      "text/plain": [
       "2133.1487300812846"
      ]
     },
     "execution_count": 107,
     "metadata": {},
     "output_type": "execute_result"
    }
   ],
   "source": [
    "Ah*1e3"
   ]
  },
  {
   "cell_type": "code",
   "execution_count": 110,
   "metadata": {},
   "outputs": [
    {
     "data": {
      "text/plain": [
       "533.2871825203212"
      ]
     },
     "execution_count": 110,
     "metadata": {},
     "output_type": "execute_result"
    }
   ],
   "source": [
    "# Required mAh of single cell\n",
    "Ah*1e3/S"
   ]
  },
  {
   "cell_type": "code",
   "execution_count": 68,
   "metadata": {},
   "outputs": [
    {
     "data": {
      "text/html": [
       "<div>\n",
       "<style scoped>\n",
       "    .dataframe tbody tr th:only-of-type {\n",
       "        vertical-align: middle;\n",
       "    }\n",
       "\n",
       "    .dataframe tbody tr th {\n",
       "        vertical-align: top;\n",
       "    }\n",
       "\n",
       "    .dataframe thead th {\n",
       "        text-align: right;\n",
       "    }\n",
       "</style>\n",
       "<table border=\"1\" class=\"dataframe\">\n",
       "  <thead>\n",
       "    <tr style=\"text-align: right;\">\n",
       "      <th></th>\n",
       "      <th>Amps</th>\n",
       "      <th>Thrust</th>\n",
       "      <th>Watts</th>\n",
       "      <th>Efficiency</th>\n",
       "      <th>RPM</th>\n",
       "    </tr>\n",
       "  </thead>\n",
       "  <tbody>\n",
       "    <tr>\n",
       "      <td>0</td>\n",
       "      <td>0.9</td>\n",
       "      <td>0.980665</td>\n",
       "      <td>9.99</td>\n",
       "      <td>10.01</td>\n",
       "      <td>3406.0</td>\n",
       "    </tr>\n",
       "    <tr>\n",
       "      <td>1</td>\n",
       "      <td>2.1</td>\n",
       "      <td>1.961330</td>\n",
       "      <td>23.31</td>\n",
       "      <td>8.58</td>\n",
       "      <td>4827.0</td>\n",
       "    </tr>\n",
       "    <tr>\n",
       "      <td>2</td>\n",
       "      <td>3.3</td>\n",
       "      <td>2.941995</td>\n",
       "      <td>36.63</td>\n",
       "      <td>8.19</td>\n",
       "      <td>5789.0</td>\n",
       "    </tr>\n",
       "    <tr>\n",
       "      <td>3</td>\n",
       "      <td>4.8</td>\n",
       "      <td>3.922660</td>\n",
       "      <td>53.28</td>\n",
       "      <td>7.51</td>\n",
       "      <td>6642.0</td>\n",
       "    </tr>\n",
       "    <tr>\n",
       "      <td>4</td>\n",
       "      <td>6.5</td>\n",
       "      <td>4.903325</td>\n",
       "      <td>72.15</td>\n",
       "      <td>6.93</td>\n",
       "      <td>7370.0</td>\n",
       "    </tr>\n",
       "    <tr>\n",
       "      <td>5</td>\n",
       "      <td>12.2</td>\n",
       "      <td>7.698220</td>\n",
       "      <td>135.42</td>\n",
       "      <td>5.80</td>\n",
       "      <td>9308.0</td>\n",
       "    </tr>\n",
       "  </tbody>\n",
       "</table>\n",
       "</div>"
      ],
      "text/plain": [
       "   Amps    Thrust   Watts  Efficiency     RPM\n",
       "0   0.9  0.980665    9.99       10.01  3406.0\n",
       "1   2.1  1.961330   23.31        8.58  4827.0\n",
       "2   3.3  2.941995   36.63        8.19  5789.0\n",
       "3   4.8  3.922660   53.28        7.51  6642.0\n",
       "4   6.5  4.903325   72.15        6.93  7370.0\n",
       "5  12.2  7.698220  135.42        5.80  9308.0"
      ]
     },
     "execution_count": 68,
     "metadata": {},
     "output_type": "execute_result"
    }
   ],
   "source": [
    "X2212V3KV980[11.1][\"APC9045\"]"
   ]
  },
  {
   "cell_type": "code",
   "execution_count": 67,
   "metadata": {},
   "outputs": [
    {
     "data": {
      "text/plain": [
       "3.4671743578615275"
      ]
     },
     "execution_count": 67,
     "metadata": {},
     "output_type": "execute_result"
    }
   ],
   "source": [
    "T_prop"
   ]
  },
  {
   "cell_type": "code",
   "execution_count": 66,
   "metadata": {},
   "outputs": [
    {
     "data": {
      "text/plain": [
       "45.54663953378007"
      ]
     },
     "execution_count": 66,
     "metadata": {},
     "output_type": "execute_result"
    }
   ],
   "source": [
    "W_prop"
   ]
  },
  {
   "cell_type": "code",
   "execution_count": 5,
   "metadata": {},
   "outputs": [],
   "source": [
    "uav = Winslow()"
   ]
  },
  {
   "cell_type": "code",
   "execution_count": 11,
   "metadata": {},
   "outputs": [],
   "source": [
    "uav.bladenumber = -2.3"
   ]
  },
  {
   "cell_type": "code",
   "execution_count": 12,
   "metadata": {},
   "outputs": [
    {
     "data": {
      "text/plain": [
       "2"
      ]
     },
     "execution_count": 12,
     "metadata": {},
     "output_type": "execute_result"
    }
   ],
   "source": [
    "uav.bladenumber"
   ]
  },
  {
   "cell_type": "markdown",
   "metadata": {},
   "source": [
    "Source: https://sunnyskyusa.com/collections/x-motors/products/sunnsky-x2212"
   ]
  },
  {
   "cell_type": "code",
   "execution_count": 59,
   "metadata": {},
   "outputs": [],
   "source": [
    "tableAPC8038 = \"\"\"\n",
    "0.7\t100\t10.36\t9.65\t4120\n",
    "1.7\t200\t25.16\t7.95\t5641\n",
    "2.8\t300\t41.44\t7.24\t6668\n",
    "4\t400\t59.2\t6.76\t7629\n",
    "5.4\t500\t79.92\t6.26\t8440\n",
    "7.1\t600\t105.08\t5.71\t9154\n",
    "8.7\t700\t128.76\t5.44\t9766\n",
    "10.2\t800\t150.96\t5.30\t10436\n",
    "16.4\t1075\t242.72\t4.43\t11910\n",
    "\"\"\"\n",
    "\n",
    "tableAPC9045_11 = \"\"\"\n",
    "0.9\t100\t9.99\t10.01\t3406\n",
    "2.1\t200\t23.31\t8.58\t4827\n",
    "3.3\t300\t36.63\t8.19\t5789\n",
    "4.8\t400\t53.28\t7.51\t6642\n",
    "6.5\t500\t72.15\t6.93\t7370\n",
    "12.2\t785\t135.42\t5.80\t9308\n",
    "\"\"\"\n",
    "\n",
    "tableAPC9045_15 = \"\"\"\n",
    "0.6\t100\t8.88\t11.26\t3452\n",
    "1.5\t200\t22.2\t9.01\t4734\n",
    "2.7\t300\t39.96\t7.51\t5780\n",
    "3.8\t400\t56.24\t7.11\t667\n",
    "5.2\t500\t76.96\t6.50\t746\n",
    "6.6\t600\t97.68\t6.14\t8140\n",
    "8.4\t700\t124.32\t5.63\t8649\n",
    "10\t800\t148\t5.41\t9150\n",
    "11.9\t900\t176.12\t5.11\t9696\n",
    "14\t1000\t207.2\t4.83\t11368\n",
    "16\t1100\t236.8\t4.65\t10221\n",
    "18.2\t1220\t269.36\t4.53\t10649\n",
    "\"\"\"\n",
    "\n",
    "tableAPC9047_11 = \"\"\"\n",
    "0.8\t100\t8.88\t11.26\t3288\n",
    "1.9\t200\t21.09\t9.48\t4580\n",
    "3.2\t300\t35.52\t8.45\t5638\n",
    "4.9\t400\t54.39\t7.35\t6591\n",
    "6.4\t500\t71.04\t7.04\t7301\n",
    "8.2\t600\t91.02\t6.59\t8041\n",
    "10.4\t700\t115.44\t6.06\t9396\n",
    "13.2\t840\t146.52\t5.73\t8730\n",
    "\"\"\"\n",
    "\n",
    "tableAPC9047_15 = \"\"\"\n",
    "0.6\t100\t8.88\t11.26\t3231\n",
    "1.5\t200\t22.2\t9.01\t4643\n",
    "2.5\t300\t37\t8.11\t5605\n",
    "3.8\t400\t56.24\t7.11\t6432\n",
    "5\t500\t74\t6.76\t7378\n",
    "6.5\t600\t96.2\t6.24\t8090\n",
    "8.2\t700\t121.36\t5.77\t8730\n",
    "10\t800\t148\t5.41\t9366\n",
    "11.7\t900\t173.16\t5.20\t10131\n",
    "13.8\t1000\t204.24\t4.90\t10716\n",
    "18.4\t1250\t272.32\t4.59\t11755\n",
    "\"\"\"\n",
    "\n",
    "tableAPC1038 = \"\"\"\n",
    "0.7\t100\t7.77\t12.87\t2813\n",
    "1.8\t200\t19.98\t10.01\t3866\n",
    "3\t300\t33.3\t9.01\t4636\n",
    "4.6\t400\t51.06\t7.83\t5170\n",
    "6.3\t500\t69.93\t7.15\t5687\n",
    "8.1\t600\t89.91\t6.67\t6100\n",
    "10.2\t700\t113.22\t6.18\t6591\n",
    "12.4\t800\t137.64\t5.81\t6853\n",
    "15.3\t900\t169.83\t5.30\t7262\n",
    "20.2\t1130\t224.22\t5.04\t7923\n",
    "\"\"\"\n",
    "\n",
    "tableAPC1047_11 = \"\"\"\n",
    "0.7\t100\t7.77\t12.87\t2612\n",
    "1.7\t200\t18.87\t10.60\t3605\n",
    "3\t300\t33.3\t9.01\t4264\n",
    "4.5\t400\t49.95\t8.01\t4887\n",
    "6.4\t500\t71.04\t7.04\t5418\n",
    "8.3\t600\t92.13\t6.51\t5872\n",
    "10.45\t700\t115.99\t6.03\t6335\n",
    "12.7\t800\t5\t5.67\t6983\n",
    "15.3\t900\t140.97\t5.30\t7378\n",
    "19.9\t1100\t169.83\t4.98\t7748\n",
    "\"\"\"\n",
    "\n",
    "tableAPC1047_15 = \"\"\"\n",
    "0.5\t100\t220.89\t13.51\t2600\n",
    "1.3\t200\t7.4\t10.40\t3593\n",
    "2.2\t300\t19.24\t9.21\t4253\n",
    "3.4\t400\t32.56\t7.95\t4869\n",
    "4.9\t500\t50.32\t6.89\t5381\n",
    "6.5\t600\t72.52\t6.24\t5845\n",
    "8.7\t700\t96.2\t5.44\t6332\n",
    "10.5\t800\t128.76\t5.15\t6610\n",
    "12.4\t900\t155.4\t4.90\t7055\n",
    "14.7\t1000\t183.52\t4.60\t7444\n",
    "16.4\t1100\t217.56\t4.53\t7766\n",
    "18\t1200\t242.72\t4.50\t8100\n",
    "20.6\t1300\t266.4\t4.26\t8394\n",
    "24.5\t1400\t304.88\t3.86\t8620\n",
    "27.4\t1500\t362.6\t3.70\t8900\n",
    "29\t1650\t405.52\t3.84\t9409\n",
    "\"\"\"\n",
    "\n",
    "def table2DF(table):\n",
    "    table = np.asarray([[float(subval) for subval in val.split(\"\\t\")] for val in table.split('\\n') if val != \"\"])\n",
    "    df = pd.DataFrame({\n",
    "        \"Amps\" : table[:,0],\n",
    "        \"Thrust\" : table[:,1]*9.80665*1e-3,\n",
    "        \"Watts\" : table[:,2],\n",
    "        \"Efficiency\" : table[:,3],\n",
    "        \"RPM\" : table[:,4],\n",
    "    })\n",
    "    \n",
    "    return df\n",
    "\n",
    "tableAPC8038 = table2DF(tableAPC8038)\n",
    "tableAPC9045_11 = table2DF(tableAPC9045_11)\n",
    "tableAPC9045_15 = table2DF(tableAPC9045_15)\n",
    "tableAPC9047_11 = table2DF(tableAPC9047_11)\n",
    "tableAPC9047_15 = table2DF(tableAPC9047_15)\n",
    "tableAPC1038 = table2DF(tableAPC1038)\n",
    "tableAPC1047_11 = table2DF(tableAPC1047_11)\n",
    "tableAPC1047_15 = table2DF(tableAPC1047_15)"
   ]
  },
  {
   "cell_type": "code",
   "execution_count": 76,
   "metadata": {},
   "outputs": [],
   "source": [
    "X2212V3KV980 = {\n",
    "    11.1: {\n",
    "        \"APC9045\" : tableAPC9045_11,\n",
    "        \"APC9047\" : tableAPC9047_11,\n",
    "        \"APC1038\" : tableAPC1038,\n",
    "        \"APC1047\" : tableAPC1047_11\n",
    "    },\n",
    "    14.8: {\n",
    "        \"APC8038\" : tableAPC8038,\n",
    "        \"APC9045\" : tableAPC9045_15,\n",
    "        \"APC9047\" : tableAPC9047_15,\n",
    "        \"APC1047\" : tableAPC1047_15\n",
    "    }\n",
    "}\n",
    "\n",
    "engineDB = {\n",
    "    \"X2212V3_KV980\" : X2212V3KV980\n",
    "}"
   ]
  },
  {
   "cell_type": "code",
   "execution_count": 52,
   "metadata": {},
   "outputs": [],
   "source": [
    "def interpMotorProps_Thrust(T, voltage=11.1, model=\"X2212V3_KV980\", prop=\"APC9045\"):\n",
    "    A = np.interp([T],engineDB[model][voltage][prop][\"Thrust\"],engineDB[model][voltage][prop][\"Amps\"])[0]\n",
    "    RPM = np.interp([T],engineDB[model][voltage][prop][\"Thrust\"],engineDB[model][voltage][prop][\"RPM\"])[0]\n",
    "    W = np.interp([T],engineDB[model][voltage][prop][\"Thrust\"],engineDB[model][voltage][prop][\"Watts\"])[0]\n",
    "    \n",
    "    return dict(Amps=A, RPM=RPM, Watts=W)"
   ]
  },
  {
   "cell_type": "code",
   "execution_count": 54,
   "metadata": {},
   "outputs": [
    {
     "data": {
      "text/plain": [
       "46.10396231128877"
      ]
     },
     "execution_count": 54,
     "metadata": {},
     "output_type": "execute_result"
    }
   ],
   "source": [
    "interpMotorProps_Thrust(3.5)[\"Watts\"]"
   ]
  },
  {
   "cell_type": "code",
   "execution_count": 49,
   "metadata": {},
   "outputs": [],
   "source": [
    "engineDB = {\n",
    "    \"X2212V3_KV980\" : X2212V3KV980\n",
    "}"
   ]
  },
  {
   "cell_type": "code",
   "execution_count": null,
   "metadata": {},
   "outputs": [],
   "source": []
  },
  {
   "cell_type": "code",
   "execution_count": 61,
   "metadata": {},
   "outputs": [
    {
     "data": {
      "text/html": [
       "<div>\n",
       "<style scoped>\n",
       "    .dataframe tbody tr th:only-of-type {\n",
       "        vertical-align: middle;\n",
       "    }\n",
       "\n",
       "    .dataframe tbody tr th {\n",
       "        vertical-align: top;\n",
       "    }\n",
       "\n",
       "    .dataframe thead th {\n",
       "        text-align: right;\n",
       "    }\n",
       "</style>\n",
       "<table border=\"1\" class=\"dataframe\">\n",
       "  <thead>\n",
       "    <tr style=\"text-align: right;\">\n",
       "      <th></th>\n",
       "      <th>Amps</th>\n",
       "      <th>Thrust</th>\n",
       "      <th>Watts</th>\n",
       "      <th>Efficiency</th>\n",
       "      <th>RPM</th>\n",
       "    </tr>\n",
       "  </thead>\n",
       "  <tbody>\n",
       "    <tr>\n",
       "      <td>0</td>\n",
       "      <td>0.9</td>\n",
       "      <td>0.980665</td>\n",
       "      <td>9.99</td>\n",
       "      <td>10.01</td>\n",
       "      <td>3406.0</td>\n",
       "    </tr>\n",
       "    <tr>\n",
       "      <td>1</td>\n",
       "      <td>2.1</td>\n",
       "      <td>1.961330</td>\n",
       "      <td>23.31</td>\n",
       "      <td>8.58</td>\n",
       "      <td>4827.0</td>\n",
       "    </tr>\n",
       "    <tr>\n",
       "      <td>2</td>\n",
       "      <td>3.3</td>\n",
       "      <td>2.941995</td>\n",
       "      <td>36.63</td>\n",
       "      <td>8.19</td>\n",
       "      <td>5789.0</td>\n",
       "    </tr>\n",
       "    <tr>\n",
       "      <td>3</td>\n",
       "      <td>4.8</td>\n",
       "      <td>3.922660</td>\n",
       "      <td>53.28</td>\n",
       "      <td>7.51</td>\n",
       "      <td>6642.0</td>\n",
       "    </tr>\n",
       "    <tr>\n",
       "      <td>4</td>\n",
       "      <td>6.5</td>\n",
       "      <td>4.903325</td>\n",
       "      <td>72.15</td>\n",
       "      <td>6.93</td>\n",
       "      <td>7370.0</td>\n",
       "    </tr>\n",
       "    <tr>\n",
       "      <td>5</td>\n",
       "      <td>12.2</td>\n",
       "      <td>7.698220</td>\n",
       "      <td>135.42</td>\n",
       "      <td>5.80</td>\n",
       "      <td>9308.0</td>\n",
       "    </tr>\n",
       "  </tbody>\n",
       "</table>\n",
       "</div>"
      ],
      "text/plain": [
       "   Amps    Thrust   Watts  Efficiency     RPM\n",
       "0   0.9  0.980665    9.99       10.01  3406.0\n",
       "1   2.1  1.961330   23.31        8.58  4827.0\n",
       "2   3.3  2.941995   36.63        8.19  5789.0\n",
       "3   4.8  3.922660   53.28        7.51  6642.0\n",
       "4   6.5  4.903325   72.15        6.93  7370.0\n",
       "5  12.2  7.698220  135.42        5.80  9308.0"
      ]
     },
     "execution_count": 61,
     "metadata": {},
     "output_type": "execute_result"
    }
   ],
   "source": [
    "X2212V3KV980[11.1][\"APC9045\"]"
   ]
  },
  {
   "cell_type": "code",
   "execution_count": null,
   "metadata": {},
   "outputs": [],
   "source": []
  }
 ],
 "metadata": {
  "kernelspec": {
   "display_name": "Python 3",
   "language": "python",
   "name": "python3"
  },
  "language_info": {
   "codemirror_mode": {
    "name": "ipython",
    "version": 3
   },
   "file_extension": ".py",
   "mimetype": "text/x-python",
   "name": "python",
   "nbconvert_exporter": "python",
   "pygments_lexer": "ipython3",
   "version": "3.7.4"
  }
 },
 "nbformat": 4,
 "nbformat_minor": 2
}
