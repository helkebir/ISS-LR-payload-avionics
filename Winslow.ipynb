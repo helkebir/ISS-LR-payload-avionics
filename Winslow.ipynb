{
 "cells": [
  {
   "cell_type": "code",
   "execution_count": 1,
   "metadata": {},
   "outputs": [],
   "source": [
    "import numpy as np"
   ]
  },
  {
   "cell_type": "code",
   "execution_count": 2,
   "metadata": {},
   "outputs": [
    {
     "data": {
      "text/plain": [
       "0.1909859317102744"
      ]
     },
     "execution_count": 2,
     "metadata": {},
     "output_type": "execute_result"
    }
   ],
   "source": [
    "4*.015/(np.pi*.1)"
   ]
  },
  {
   "cell_type": "code",
   "execution_count": 4,
   "metadata": {},
   "outputs": [],
   "source": [
    "class Winslow(object):\n",
    "    def __init__(self, rotorradius=.1, bladenumber=4, solidity=.2):\n",
    "        self.rotorradius = rotorradius\n",
    "        self.bladenumber = bladenumber\n",
    "        self.solidity = solidity\n",
    "        \n",
    "    def rotormass(self):\n",
    "        return 0.0195*self.rotorradius**(2.0859)*self.solidity**(-.2038)*self.bladenumber**(.5344)\n",
    "    \n",
    "    def batterymass(self, capacity, seriesnumber):\n",
    "        return .0418*capacity**(.9327)*seriesnumber**(1.0725)\n",
    "    \n",
    "    def motormassBL(self, Kv, P, I):\n",
    "        lBL = 4.8910*I**(.1751)*P**(.2476)\n",
    "        dBL = 41.45*Kv**(-.1919)*P**(.1935)\n",
    "        return .0109*Kv**(.5122)*P**(-.1902)*np.log10(lBL)**(2.5582)*np.log10(dBL)**(12.8502)\n",
    "    \n",
    "    def motormassDC(self, P, Qmax):\n",
    "        lDC = 20.83*Qmax**(.1924)\n",
    "        dDC = 11.13*Qmax**(.2895)\n",
    "        return (10**(-81))*P**(-.2979)*Qmax**(-20.5615)*np.log10(lDC)**(746)*np.log10(dDC)**(-212)\n",
    "    \n",
    "    def ESCmassBL(self, Imax):\n",
    "        return 0.8013*Imax**(.9727)\n",
    "    \n",
    "    def ESCmassDC(self, Imax):\n",
    "        return .977*Imax**(.8483)\n",
    "    \n",
    "    def airframemass(self, R, capacity, seriesnumber):\n",
    "        return 1.3119*R**(1.2767)*self.batterymass(capacity, seriesnumber)**(.4587)\n",
    "            \n",
    "    @property\n",
    "    def rotorradius(self):\n",
    "        return self._rotorradius\n",
    "    \n",
    "    @rotorradius.setter\n",
    "    def rotorradius(self, rr):\n",
    "        try:\n",
    "            rr = np.abs(float(rr))\n",
    "        except:\n",
    "            pass\n",
    "        else:\n",
    "            self._rotorradius = rr\n",
    "            \n",
    "    @property\n",
    "    def bladenumber(self):\n",
    "        return self._bladenumber\n",
    "    \n",
    "    @bladenumber.setter\n",
    "    def bladenumber(self, bn):\n",
    "        try:\n",
    "            bn = np.abs(int(bn))\n",
    "        except:\n",
    "            pass\n",
    "        else:\n",
    "            self._bladenumber = bn\n",
    "            \n",
    "    @property\n",
    "    def solidity(self):\n",
    "        return self._solidity\n",
    "    \n",
    "    @solidity.setter\n",
    "    def solidity(self, sol):\n",
    "        try:\n",
    "            sol = np.abs(float(sol))\n",
    "        except:\n",
    "            pass\n",
    "        else:\n",
    "            self._rotorradius = sol"
   ]
  },
  {
   "cell_type": "code",
   "execution_count": 5,
   "metadata": {},
   "outputs": [],
   "source": [
    "uav = Winslow()"
   ]
  }
 ],
 "metadata": {
  "kernelspec": {
   "display_name": "Python 3",
   "language": "python",
   "name": "python3"
  },
  "language_info": {
   "codemirror_mode": {
    "name": "ipython",
    "version": 3
   },
   "file_extension": ".py",
   "mimetype": "text/x-python",
   "name": "python",
   "nbconvert_exporter": "python",
   "pygments_lexer": "ipython3",
   "version": "3.7.4"
  }
 },
 "nbformat": 4,
 "nbformat_minor": 2
}
